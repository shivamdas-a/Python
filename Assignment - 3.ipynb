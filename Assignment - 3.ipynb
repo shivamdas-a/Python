{
 "cells": [
  {
   "cell_type": "code",
   "execution_count": 1,
   "id": "aa592eba",
   "metadata": {},
   "outputs": [
    {
     "name": "stdout",
     "output_type": "stream",
     "text": [
      "Eneter a month: January\n",
      "The season: Winter\n"
     ]
    }
   ],
   "source": [
    "#1. Write a function called check-season, it takes a month parameter and returns the season: Autumn, Winter, Spring or Summer.\n",
    "def check_season(m):\n",
    "    if m in(\"september\",\"october\",\"november\"):\n",
    "        print(\"The season: Autumn\")\n",
    "    elif m in(\"december\",\"january\",\"february\"):\n",
    "        print(\"The season: Winter\")\n",
    "    elif m in(\"march\",\"april\",\"may\"):\n",
    "        print(\"The season: Spring\")\n",
    "    else:\n",
    "        print(\"The season: Summer\")\n",
    "    \n",
    "\n",
    "month=input(\"Eneter a month: \")\n",
    "check_season(month.lower())\n"
   ]
  },
  {
   "cell_type": "code",
   "execution_count": 3,
   "id": "ff5a60a3",
   "metadata": {},
   "outputs": [
    {
     "name": "stdout",
     "output_type": "stream",
     "text": [
      "Enter x1 : 5\n",
      "Enter x2 : 6\n",
      "Enter y1 : 6\n",
      "Enter y2 : 9\n",
      "The slope of the line is: 3.0\n"
     ]
    }
   ],
   "source": [
    "#2. Write a function called calculate_slope which return the slope of a linear equation\n",
    "def calculate_slope(x1, y1, x2, y2):\n",
    "    if x1 == x2:\n",
    "        raise ValueError(\"Slope is undefined for vertical lines (x1 cannot be equal to x2).\")\n",
    "    return (y2 - y1) / (x2 - x1)\n",
    "\n",
    "x1=int(input(\"Enter x1 : \"))\n",
    "x2=int(input(\"Enter x2 : \"))\n",
    "y1=int(input(\"Enter y1 : \"))\n",
    "y2=int(input(\"Enter y2 : \"))\n",
    "slope = calculate_slope(x1, y1, x2, y2)\n",
    "print(\"The slope of the line is:\", slope)"
   ]
  },
  {
   "cell_type": "code",
   "execution_count": 4,
   "id": "add5c4cc",
   "metadata": {},
   "outputs": [
    {
     "name": "stdout",
     "output_type": "stream",
     "text": [
      "The solutions of the quadratic equation are: (2.0, 1.0)\n"
     ]
    }
   ],
   "source": [
    "#3. Quadratic equation is calculated as follows: ax² + bx + c = 0. Write a function which calculates solution set of a quadratic equation, _solve_quadratic_eqn_.\n",
    "import math\n",
    "\n",
    "def solve_quadratic_eqn(a, b, c):\n",
    "    if a == 0:\n",
    "        raise ValueError(\"Coefficient 'a' cannot be zero for a quadratic equation.\")\n",
    "    \n",
    "    discriminant = b**2 - 4*a*c\n",
    "    \n",
    "    if discriminant > 0:\n",
    "        root1 = (-b + math.sqrt(discriminant)) / (2*a)\n",
    "        root2 = (-b - math.sqrt(discriminant)) / (2*a)\n",
    "        return (root1, root2)\n",
    "    elif discriminant == 0:\n",
    "        root = -b / (2*a)\n",
    "        return (root,)\n",
    "    else:\n",
    "        real_part = -b / (2*a)\n",
    "        imaginary_part = math.sqrt(-discriminant) / (2*a)\n",
    "        return (complex(real_part, imaginary_part), complex(real_part, -imaginary_part))\n",
    "\n",
    "# Example usage:\n",
    "a = 1\n",
    "b = -3\n",
    "c = 2\n",
    "solutions = solve_quadratic_eqn(a, b, c)\n",
    "print(\"The solutions of the quadratic equation are:\", solutions)"
   ]
  },
  {
   "cell_type": "code",
   "execution_count": 5,
   "id": "f8dbc3e1",
   "metadata": {},
   "outputs": [
    {
     "name": "stdout",
     "output_type": "stream",
     "text": [
      "Enter a list of elements separated by space: 6 7 4 8 95 7 2 \n",
      "6\n",
      "7\n",
      "4\n",
      "8\n",
      "95\n",
      "7\n",
      "2\n"
     ]
    }
   ],
   "source": [
    "#4. Declare a function named print_list. It takes a list as a parameter and it prints out each element of the list.\n",
    "def print_list():\n",
    "    lst = input(\"Enter a list of elements separated by space: \").split()\n",
    "    for element in lst:\n",
    "        print(element)\n",
    "\n",
    "print_list()"
   ]
  },
  {
   "cell_type": "code",
   "execution_count": 6,
   "id": "a0b45237",
   "metadata": {},
   "outputs": [
    {
     "name": "stdout",
     "output_type": "stream",
     "text": [
      "Enter an array of elements separated by space: 6 7 4 9 5\n",
      "['5', '9', '4', '7', '6']\n"
     ]
    }
   ],
   "source": [
    "#5. Declare a function named reverse_list. It takes an array as a parameter and it returns the reverse of the array (use loops).\n",
    "def reverse_list():\n",
    "    arr = input(\"Enter an array of elements separated by space: \").split()\n",
    "    reversed_arr = []\n",
    "    for i in range(len(arr) - 1, -1, -1):\n",
    "        reversed_arr.append(arr[i])\n",
    "    return reversed_arr\n",
    "\n",
    "print(reverse_list())"
   ]
  },
  {
   "cell_type": "code",
   "execution_count": 7,
   "id": "79e213c1",
   "metadata": {},
   "outputs": [
    {
     "name": "stdout",
     "output_type": "stream",
     "text": [
      "Enter a positive integer: 5\n",
      "0.7833333333333332\n"
     ]
    }
   ],
   "source": [
    "#6. Compute the sum up to n terms in the series 1 - 1/2 + 1/3 - 1/4 + 1/5 -... 1/n where n is a positive integer and input by user.\n",
    "def sum_series():\n",
    "    n = int(input(\"Enter a positive integer: \"))\n",
    "    total = 0\n",
    "    for i in range(1, n + 1):\n",
    "        if i % 2 == 0:\n",
    "            total -= 1 / i\n",
    "        else:\n",
    "            total += 1 / i\n",
    "    return total\n",
    "\n",
    "print(sum_series())"
   ]
  },
  {
   "cell_type": "code",
   "execution_count": 8,
   "id": "1c1780be",
   "metadata": {},
   "outputs": [
    {
     "name": "stdout",
     "output_type": "stream",
     "text": [
      "Enter x: 8 \n",
      "Enter a positive integer n: 4\n",
      "-220.36825396825395\n"
     ]
    }
   ],
   "source": [
    "# 7. Write a program to compute sin x for given x. The user should supply x and a positive integer n. We compute the sine of x using the series and the computation should use all terms in the series up through the term involving xn sin x = x - x3/3! + x5/5! - x7/7! + x9/9! ........\n",
    "import math\n",
    "\n",
    "def compute_sine():\n",
    "    x = float(input(\"Enter x: \"))\n",
    "    n = int(input(\"Enter a positive integer n: \"))\n",
    "    sine_x = 0\n",
    "    sign = 1\n",
    "    for i in range(n):\n",
    "        term = sign * (x**(2*i+1)) / math.factorial(2*i+1)\n",
    "        sine_x += term\n",
    "        sign *= -1\n",
    "    return sine_x\n",
    "\n",
    "print(compute_sine())"
   ]
  },
  {
   "cell_type": "code",
   "execution_count": 9,
   "id": "dfc721fe",
   "metadata": {},
   "outputs": [
    {
     "name": "stdout",
     "output_type": "stream",
     "text": [
      "Enter x: 7\n",
      "Enter a positive integer n: 9\n",
      "0.9786419456338615\n"
     ]
    }
   ],
   "source": [
    "# 8. Write a program to compute cosine of x. The user should supply x and a positive integer n. We compute the cosine of x using the series and the computation should use all terms in the series up through the term involving xn cos x = 1 - x2/2! + x4/4! - x6/6! ....\n",
    "import math\n",
    "def compute_cosine():\n",
    "    x = float(input(\"Enter x: \"))\n",
    "    n = int(input(\"Enter a positive integer n: \"))\n",
    "    cos_x = 0\n",
    "    sign = 1\n",
    "    for i in range(n):\n",
    "        term = sign * (x**(2*i)) / math.factorial(2*i)\n",
    "        cos_x += term\n",
    "        sign *= -1\n",
    "    return cos_x\n",
    "\n",
    "print(compute_cosine())"
   ]
  },
  {
   "cell_type": "code",
   "execution_count": 14,
   "id": "3d6bacde",
   "metadata": {},
   "outputs": [
    {
     "name": "stdout",
     "output_type": "stream",
     "text": [
      "Enter the number of lines (N): 2\n",
      " .\n",
      "/_\\\n"
     ]
    }
   ],
   "source": [
    "#9. Print the pattern upto N Lines:\n",
    "\"\"\"\n",
    ".\n",
    "/_\\\n",
    ".\n",
    "/ \\\n",
    "/___\\\n",
    ".\n",
    "/ \\\n",
    "/ \\\n",
    "/_____\\\n",
    "\n",
    "N=2 N=3 N=4\n",
    " \"\"\"\n",
    "def print_pattern(N):\n",
    "    if N >= 1:\n",
    "        print(\" \" * (N - 1) + \".\")\n",
    "\n",
    "    for i in range(1, N):\n",
    "        print(\" \" * (N - i - 1), end=\"\")\n",
    "        print(\"/\", end=\"\")\n",
    "\n",
    "        if i == N - 1:\n",
    "            print(\"_\" * (2 * i - 1), end=\"\")\n",
    "        else:\n",
    "            print(\" \" * (2 * i - 1), end=\"\")\n",
    "\n",
    "        print(\"\\\\\")\n",
    "\n",
    "N = int(input(\"Enter the number of lines (N): \"))\n",
    "print_pattern(N)"
   ]
  },
  {
   "cell_type": "code",
   "execution_count": 2,
   "id": "5b97f6c5",
   "metadata": {},
   "outputs": [
    {
     "name": "stdout",
     "output_type": "stream",
     "text": [
      "Enter the number of lines: 4\n",
      " _ \n",
      "| |\n",
      "|_|\n",
      "   \n",
      "  |\n",
      "  |\n",
      " _ \n",
      " _|\n",
      "|_ \n",
      " _ \n",
      " _|\n",
      " _|\n"
     ]
    }
   ],
   "source": [
    "#10. Print a number as a 8 segment display N Lines:\n",
    "def print_8_segment_display():\n",
    "    n = int(input(\"Enter the number of lines: \"))\n",
    "    patterns = [\n",
    "        \" _ \\n| |\\n|_|\",\n",
    "        \"   \\n  |\\n  |\",\n",
    "        \" _ \\n _|\\n|_ \",\n",
    "        \" _ \\n _|\\n _|\",\n",
    "        \"   \\n|_|\\n  |\",\n",
    "        \" _ \\n|_ \\n _|\",\n",
    "        \" _ \\n|_ \\n|_|\",\n",
    "        \" _ \\n  |\\n  |\",\n",
    "        \" _ \\n|_|\\n|_|\",\n",
    "        \" _ \\n|_|\\n _|\"\n",
    "    ]\n",
    "    for i in range(n):\n",
    "        print(patterns[i % 10])\n",
    "\n",
    "print_8_segment_display()"
   ]
  },
  {
   "cell_type": "code",
   "execution_count": 3,
   "id": "300f2278",
   "metadata": {},
   "outputs": [
    {
     "name": "stdout",
     "output_type": "stream",
     "text": [
      "1 2\n",
      "4 3\n",
      "1 2 3\n",
      "8 9 4\n",
      "7 6 5\n",
      "1 2 3 4\n",
      "12 13 14 5\n",
      "11 16 15 6\n",
      "10 9 8 7\n"
     ]
    }
   ],
   "source": [
    "##11 Print pattern up to N lines (spiral matrix)\n",
    "def print_spiral_matrix(N):\n",
    "    matrix = [[0] * N for _ in range(N)]\n",
    "    val = 1\n",
    "    top, left = 0, 0\n",
    "    bottom, right = N - 1, N - 1\n",
    "\n",
    "    while val <= N * N:\n",
    "        for i in range(left, right + 1):\n",
    "            matrix[top][i] = val\n",
    "            val += 1\n",
    "        top += 1\n",
    "\n",
    "        for i in range(top, bottom + 1):\n",
    "            matrix[i][right] = val\n",
    "            val += 1\n",
    "        right -= 1\n",
    "\n",
    "        for i in range(right, left - 1, -1):\n",
    "            matrix[bottom][i] = val\n",
    "            val += 1\n",
    "        bottom -= 1\n",
    "\n",
    "        for i in range(bottom, top - 1, -1):\n",
    "            matrix[i][left] = val\n",
    "            val += 1\n",
    "        left += 1\n",
    "\n",
    "    for row in matrix:\n",
    "        print(\" \".join(map(str, row)))\n",
    "\n",
    "print_spiral_matrix(2)\n",
    "\n",
    "print_spiral_matrix(3)\n",
    "\n",
    "print_spiral_matrix(4)"
   ]
  },
  {
   "cell_type": "code",
   "execution_count": 4,
   "id": "5b9c8cf2",
   "metadata": {},
   "outputs": [
    {
     "name": "stdout",
     "output_type": "stream",
     "text": [
      "1 1 1 1 1\n",
      "2 1 2 4 8\n",
      "3 1 3 9 27\n",
      "4 1 4 16 64\n",
      "5 1 5 25 125\n"
     ]
    }
   ],
   "source": [
    "#12 Display the following table\n",
    "def display_table():\n",
    "    for i in range(1, 6):\n",
    "        print(f\"{i} {1} {i} {i*i} {i*i*i}\")\n",
    "\n",
    "display_table()"
   ]
  },
  {
   "cell_type": "code",
   "execution_count": 5,
   "id": "c3f4ccb2",
   "metadata": {},
   "outputs": [
    {
     "name": "stdout",
     "output_type": "stream",
     "text": [
      "3\n",
      "2\n"
     ]
    }
   ],
   "source": [
    "#13 Implement Stack using array\n",
    "class Stack:\n",
    "    def __init__(self):\n",
    "        self.stack = []\n",
    "\n",
    "    def push(self, value):\n",
    "        self.stack.append(value)\n",
    "\n",
    "    def pop(self):\n",
    "        if not self.is_empty():\n",
    "            return self.stack.pop()\n",
    "        return \"Stack is empty\"\n",
    "\n",
    "    def is_empty(self):\n",
    "        return len(self.stack) == 0\n",
    "\n",
    "    def peek(self):\n",
    "        if not self.is_empty():\n",
    "            return self.stack[-1]\n",
    "        return \"Stack is empty\"\n",
    "\n",
    "stack = Stack()\n",
    "stack.push(1)\n",
    "stack.push(2)\n",
    "stack.push(3)\n",
    "print(stack.pop())  \n",
    "print(stack.peek()) "
   ]
  },
  {
   "cell_type": "code",
   "execution_count": 6,
   "id": "a2be16b4",
   "metadata": {},
   "outputs": [
    {
     "name": "stdout",
     "output_type": "stream",
     "text": [
      "1\n",
      "2\n"
     ]
    }
   ],
   "source": [
    "#14 Implement Queue using array\n",
    "class Queue:\n",
    "    def __init__(self):\n",
    "        self.queue = []\n",
    "\n",
    "    def enqueue(self, value):\n",
    "        self.queue.append(value)\n",
    "\n",
    "    def dequeue(self):\n",
    "        if not self.is_empty():\n",
    "            return self.queue.pop(0)\n",
    "        return \"Queue is empty\"\n",
    "\n",
    "    def is_empty(self):\n",
    "        return len(self.queue) == 0\n",
    "\n",
    "    def front(self):\n",
    "        if not self.is_empty():\n",
    "            return self.queue[0]\n",
    "        return \"Queue is empty\"\n",
    "\n",
    "queue = Queue()\n",
    "queue.enqueue(1)\n",
    "queue.enqueue(2)\n",
    "queue.enqueue(3)\n",
    "print(queue.dequeue())  \n",
    "print(queue.front())    "
   ]
  },
  {
   "cell_type": "code",
   "execution_count": 7,
   "id": "8e1c8029",
   "metadata": {},
   "outputs": [
    {
     "name": "stdout",
     "output_type": "stream",
     "text": [
      "[[6, 8], [10, 12]]\n"
     ]
    }
   ],
   "source": [
    "#15 Calculate Sum of two 2-dimensional arrays\n",
    "def sum_of_2d_arrays(arr1, arr2):\n",
    "    result = [[arr1[i][j] + arr2[i][j] for j in range(len(arr1[0]))] for i in range(len(arr1))]\n",
    "    return result\n",
    "\n",
    "arr1 = [[1, 2], [3, 4]]\n",
    "arr2 = [[5, 6], [7, 8]]\n",
    "result = sum_of_2d_arrays(arr1, arr2)\n",
    "print(result)"
   ]
  },
  {
   "cell_type": "code",
   "execution_count": 8,
   "id": "1701b003",
   "metadata": {},
   "outputs": [
    {
     "name": "stdout",
     "output_type": "stream",
     "text": [
      "4\n"
     ]
    }
   ],
   "source": [
    "#16 Find the range of a 1D array\n",
    "def range_of_array(arr):\n",
    "    return max(arr) - min(arr)\n",
    "\n",
    "arr = [1, 2, 3, 4, 5]\n",
    "print(range_of_array(arr)) "
   ]
  },
  {
   "cell_type": "code",
   "execution_count": 9,
   "id": "0b4694b7",
   "metadata": {},
   "outputs": [
    {
     "name": "stdout",
     "output_type": "stream",
     "text": [
      "2\n",
      "-1\n"
     ]
    }
   ],
   "source": [
    "#17 Search an element in an array\n",
    "def search_element(arr, element):\n",
    "    if element in arr:\n",
    "        return arr.index(element)\n",
    "    return -1\n",
    "\n",
    "arr = [1, 2, 3, 4, 5]\n",
    "print(search_element(arr, 3))  \n",
    "print(search_element(arr, 6))  "
   ]
  },
  {
   "cell_type": "code",
   "execution_count": 10,
   "id": "e851b488",
   "metadata": {},
   "outputs": [
    {
     "name": "stdout",
     "output_type": "stream",
     "text": [
      "6\n"
     ]
    }
   ],
   "source": [
    "#18 Find the sum of even numbers in an integer array\n",
    "def sum_of_even_numbers(arr):\n",
    "    return sum([x for x in arr if x % 2 == 0])\n",
    "\n",
    "arr = [1, 2, 3, 4, 5]\n",
    "print(sum_of_even_numbers(arr))  "
   ]
  },
  {
   "cell_type": "code",
   "execution_count": 11,
   "id": "9d14fa16",
   "metadata": {},
   "outputs": [
    {
     "name": "stdout",
     "output_type": "stream",
     "text": [
      "15\n"
     ]
    }
   ],
   "source": [
    "#19 Find the sum of diagonal elements in a 2D array\n",
    "def sum_of_diagonal_elements(arr):\n",
    "    return sum(arr[i][i] for i in range(len(arr)))\n",
    "\n",
    "arr = [[1, 2, 3], [4, 5, 6], [7, 8, 9]]\n",
    "print(sum_of_diagonal_elements(arr)) "
   ]
  },
  {
   "cell_type": "code",
   "execution_count": 12,
   "id": "21f47ebb",
   "metadata": {},
   "outputs": [
    {
     "name": "stdout",
     "output_type": "stream",
     "text": [
      "[5, 4, 3, 2, 1]\n"
     ]
    }
   ],
   "source": [
    "#20 Reverse the elements in an array of integers without using a second array\n",
    "def reverse_array(arr):\n",
    "    left = 0\n",
    "    right = len(arr) - 1\n",
    "    while left < right:\n",
    "        arr[left], arr[right] = arr[right], arr[left]\n",
    "        left += 1\n",
    "        right -= 1\n",
    "    return arr\n",
    "\n",
    "arr = [1, 2, 3, 4, 5]\n",
    "print(reverse_array(arr))  "
   ]
  },
  {
   "cell_type": "code",
   "execution_count": 13,
   "id": "e01b5f24",
   "metadata": {},
   "outputs": [
    {
     "name": "stdout",
     "output_type": "stream",
     "text": [
      "1\n"
     ]
    }
   ],
   "source": [
    "#21 Find the smallest number in an array\n",
    "def find_smallest_number(arr):\n",
    "    return min(arr)\n",
    "\n",
    "arr = [1, 2, 3, 4, 5]\n",
    "print(find_smallest_number(arr))  "
   ]
  },
  {
   "cell_type": "code",
   "execution_count": 14,
   "id": "bd69dcba",
   "metadata": {},
   "outputs": [
    {
     "name": "stdout",
     "output_type": "stream",
     "text": [
      "25\n"
     ]
    }
   ],
   "source": [
    "#22 Find the sum of all odd numbers in a 2D array\n",
    "def sum_of_odd_numbers_2d(arr):\n",
    "    return sum([x for row in arr for x in row if x % 2 != 0])\n",
    "\n",
    "arr = [[1, 2, 3], [4, 5, 6], [7, 8, 9]]\n",
    "print(sum_of_odd_numbers_2d(arr))  "
   ]
  },
  {
   "cell_type": "code",
   "execution_count": 15,
   "id": "16d9c13c",
   "metadata": {},
   "outputs": [
    {
     "name": "stdout",
     "output_type": "stream",
     "text": [
      "[1, 3, 5]\n",
      "[2, 4, 6]\n"
     ]
    }
   ],
   "source": [
    "#23 Print transpose of a matrix\n",
    "def transpose_matrix(matrix):\n",
    "    return [[matrix[j][i] for j in range(len(matrix))] for i in range(len(matrix[0]))]\n",
    "\n",
    "matrix = [[1, 2], [3, 4], [5, 6]]\n",
    "transposed = transpose_matrix(matrix)\n",
    "for row in transposed:\n",
    "    print(row)"
   ]
  },
  {
   "cell_type": "code",
   "execution_count": null,
   "id": "0d0c37f9",
   "metadata": {},
   "outputs": [],
   "source": []
  }
 ],
 "metadata": {
  "kernelspec": {
   "display_name": "Python 3 (ipykernel)",
   "language": "python",
   "name": "python3"
  },
  "language_info": {
   "codemirror_mode": {
    "name": "ipython",
    "version": 3
   },
   "file_extension": ".py",
   "mimetype": "text/x-python",
   "name": "python",
   "nbconvert_exporter": "python",
   "pygments_lexer": "ipython3",
   "version": "3.10.9"
  }
 },
 "nbformat": 4,
 "nbformat_minor": 5
}
