{
 "cells": [
  {
   "cell_type": "code",
   "execution_count": 1,
   "id": "7507b812",
   "metadata": {},
   "outputs": [
    {
     "name": "stdout",
     "output_type": "stream",
     "text": [
      "Enter a string: I live in India\n",
      "Length of the string: 15\n",
      "Occurrences of the substring 'country': 0\n",
      "Occurrences of each word:\n",
      "i: 1\n",
      "live: 1\n",
      "in: 1\n",
      "india: 1\n"
     ]
    }
   ],
   "source": [
    "#1. Write a program to enter a string. Calculate the length of the string. Find the substring country.\n",
    "# Count the occurences of each word in the given sentence.\n",
    "def main():\n",
    "    input_string = input(\"Enter a string: \")\n",
    "    string_length = len(input_string)\n",
    "    print(f\"Length of the string: {string_length}\")\n",
    "\n",
    "    substring = \"country\"\n",
    "    substring_count = input_string.lower().count(substring.lower())\n",
    "    print(f\"Occurrences of the substring '{substring}': {substring_count}\")\n",
    "\n",
    "    word_list = input_string.split()\n",
    "    word_count = {}\n",
    "\n",
    "    for word in word_list:\n",
    "        normalized_word = word.lower()\n",
    "        if normalized_word in word_count:\n",
    "            word_count[normalized_word] += 1\n",
    "        else:\n",
    "            word_count[normalized_word] = 1\n",
    "\n",
    "    print(\"Occurrences of each word:\")\n",
    "    for word, count in word_count.items():\n",
    "        print(f\"{word}: {count}\")\n",
    "\n",
    "if __name__ == \"__main__\":\n",
    "    main()\n"
   ]
  },
  {
   "cell_type": "code",
   "execution_count": 2,
   "id": "5b7ed367",
   "metadata": {},
   "outputs": [
    {
     "name": "stdout",
     "output_type": "stream",
     "text": [
      "Enter a string: I love my country\n",
      "Length of the string: 17\n",
      "Occurrences of the substring 'country': 1\n",
      "Occurrences of each word:\n",
      "i: 1\n",
      "love: 1\n",
      "my: 1\n",
      "country: 1\n"
     ]
    }
   ],
   "source": [
    "if __name__ == \"__main__\":\n",
    "    main()"
   ]
  },
  {
   "cell_type": "code",
   "execution_count": 3,
   "id": "f89c5760",
   "metadata": {},
   "outputs": [
    {
     "name": "stdout",
     "output_type": "stream",
     "text": [
      "Enter a string: I am from Kolkata\n",
      "Length of the string: 17\n",
      "Occurrences of the substring 'country': 0\n",
      "Occurrences of each word:\n",
      "i: 1\n",
      "am: 1\n",
      "from: 1\n",
      "kolkata: 1\n"
     ]
    }
   ],
   "source": [
    "if __name__ == \"__main__\":\n",
    "    main()"
   ]
  },
  {
   "cell_type": "code",
   "execution_count": 4,
   "id": "2e6ccc45",
   "metadata": {},
   "outputs": [
    {
     "name": "stdout",
     "output_type": "stream",
     "text": [
      "world,India,Kolkata\n",
      "India,Kolkata,world\n"
     ]
    }
   ],
   "source": [
    "#2.Write a program that accepts a comma separated sequence of words as input and prints the words\n",
    "# in a comma-separated sequence after sorting them alphabetically.\n",
    "# Suppose the following input is supplied to the program:\n",
    "# without,hello,bag,world\n",
    "# Then, the output should be:\n",
    "# bag,hello,without,world\n",
    "\n",
    "input_string = input()\n",
    "words_list = input_string.split(',')\n",
    "words_list.sort()\n",
    "sorted_string = ','.join(words_list)\n",
    "print(sorted_string)\n"
   ]
  },
  {
   "cell_type": "code",
   "execution_count": 5,
   "id": "44df323b",
   "metadata": {},
   "outputs": [
    {
     "name": "stdout",
     "output_type": "stream",
     "text": [
      "Enter lines of text (type 'DONE' on a new line to finish):\n",
      "hello world\n",
      "hello\n",
      "done\n",
      "DONE\n",
      "HELLO WORLD\n",
      "HELLO\n",
      "DONE\n"
     ]
    }
   ],
   "source": [
    "# 3. Write a program that accepts sequence of lines as input and prints the lines after making all\n",
    "# characters in the sentence capitalized.\n",
    "# Suppose the following input is supplied to the program:\n",
    "# Hello world\n",
    "# Practice makes perfect\n",
    "# Then, the output should be:\n",
    "# HELLO WORLD\n",
    "# PRACTICE MAKES PERFECT\n",
    "\n",
    "def capitalize_lines():\n",
    "    lines = []\n",
    "\n",
    "    print(\"Enter lines of text (type 'DONE' on a new line to finish):\")\n",
    "\n",
    "    while True:\n",
    "        line = input()\n",
    "        if line == 'DONE':\n",
    "            break\n",
    "        lines.append(line)\n",
    "\n",
    "    for line in lines:\n",
    "        print(line.upper())\n",
    "\n",
    "capitalize_lines()\n"
   ]
  },
  {
   "cell_type": "code",
   "execution_count": 6,
   "id": "bdbcc1e4",
   "metadata": {},
   "outputs": [
    {
     "name": "stdout",
     "output_type": "stream",
     "text": [
      "hello world again hello world\n",
      "again hello world\n"
     ]
    }
   ],
   "source": [
    "#4. Write a program that accepts a sequence of whitespace separated words as input and prints the\n",
    "# words after removing all duplicate words and sorting them alphanumerically.\n",
    "# Suppose the following input is supplied to the program:\n",
    "# hello world and practice makes perfect and hello world again\n",
    "# Then, the output should be:\n",
    "# again and hello makes perfect practice world\n",
    "def process_words():\n",
    "    input_string = input()\n",
    "    words = input_string.split()\n",
    "    unique_words = set(words)\n",
    "    sorted_words = sorted(unique_words)\n",
    "    result = ' '.join(sorted_words)\n",
    "    print(result)\n",
    "\n",
    "process_words()"
   ]
  },
  {
   "cell_type": "code",
   "execution_count": 7,
   "id": "d6ff2b49",
   "metadata": {},
   "outputs": [
    {
     "name": "stdout",
     "output_type": "stream",
     "text": [
      "hello world!\n",
      "LETTERS 10\n",
      "DIGITS 0\n"
     ]
    }
   ],
   "source": [
    "# 5. Write a program that accepts a sentence and calculate the number of letters and digits.\n",
    "# Suppose the following input is supplied to the program:\n",
    "# hello world! 123\n",
    "# Then, the output should be:\n",
    "# LETTERS 10\n",
    "# DIGITS 3\n",
    "def count_letters_and_digits():\n",
    "    input_string = input()\n",
    "    letters_count = sum(c.isalpha() for c in input_string)\n",
    "    digits_count = sum(c.isdigit() for c in input_string)\n",
    "    print(f\"LETTERS {letters_count}\")\n",
    "    print(f\"DIGITS {digits_count}\")\n",
    "\n",
    "count_letters_and_digits()\n"
   ]
  },
  {
   "cell_type": "code",
   "execution_count": 9,
   "id": "0e35fdbe",
   "metadata": {},
   "outputs": [
    {
     "name": "stdout",
     "output_type": "stream",
     "text": [
      "no\n",
      "No\n"
     ]
    }
   ],
   "source": [
    "# 6. Write a program which accepts a string as input to print \"Yes\" if the string is \"yes\" or \"YES\" or \"Yes\", otherwise print \"No\".\n",
    "def check_string():\n",
    "    input_string = input().strip()\n",
    "    if input_string in [\"yes\", \"YES\", \"Yes\"]:\n",
    "        print(\"Yes\")\n",
    "    else:\n",
    "        print(\"No\")\n",
    "\n",
    "check_string()"
   ]
  },
  {
   "cell_type": "code",
   "execution_count": 10,
   "id": "5fa40de6",
   "metadata": {},
   "outputs": [
    {
     "name": "stdout",
     "output_type": "stream",
     "text": [
      "5 dog and 4 cats\n",
      "['5', '4']\n"
     ]
    }
   ],
   "source": [
    "# 7. Write a program which accepts a sequence of words separated by whitespace as input to print the words composed of digits only.\n",
    "# Example:\n",
    "# If the following words is given as input to the program:\n",
    "# 2 cats and 3 dogs.\n",
    "# Then, the output of the program should be:\n",
    "# ['2', '3']\n",
    "# In case of input data being supplied to the question, it should be assumed to be a console input.\n",
    "def print_digit_words():\n",
    "    input_string = input().strip()\n",
    "    words = input_string.split()\n",
    "    digit_words = [word for word in words if word.isdigit()]\n",
    "    print(digit_words)\n",
    "\n",
    "print_digit_words()"
   ]
  },
  {
   "cell_type": "code",
   "execution_count": 11,
   "id": "21cdb355",
   "metadata": {},
   "outputs": [
    {
     "name": "stdout",
     "output_type": "stream",
     "text": [
      "gjdtrsetsrsdjfyjduy\n",
      "d,3\n",
      "e,1\n",
      "f,1\n",
      "g,1\n",
      "j,3\n",
      "r,2\n",
      "s,3\n",
      "t,2\n",
      "u,1\n",
      "y,2\n"
     ]
    }
   ],
   "source": [
    "# 8. Please write a program which count and print the numbers of each character in a string input by console.\n",
    "# Example:\n",
    "# If the following string is given as input to the program:\n",
    "# abcdefgabc\n",
    "# Then, the output of the program should be:\n",
    "# a,2\n",
    "# c,2\n",
    "# b,2\n",
    "# e,1\n",
    "# d,1\n",
    "# g,1\n",
    "# f,1\n",
    "from collections import Counter\n",
    "\n",
    "def count_characters():\n",
    "    input_string = input().strip()\n",
    "    counts = Counter(input_string)\n",
    "\n",
    "    for char in sorted(counts):\n",
    "        print(f\"{char},{counts[char]}\")\n",
    "\n",
    "count_characters()\n"
   ]
  },
  {
   "cell_type": "code",
   "execution_count": 12,
   "id": "40cc5187",
   "metadata": {},
   "outputs": [
    {
     "name": "stdout",
     "output_type": "stream",
     "text": [
      "Enter the string: Hello World!\n",
      "Reversed String: !dlroW olleH\n",
      "Palindrome: No\n",
      "Enter the substring to check: Hello\n",
      "Ends with substring: No\n",
      "Capitalized String: Hello World!\n",
      "Enter another string to check anagram: world\n",
      "Anagram: No\n",
      "String without vowels: Hll Wrld!\n",
      "Length of the longest word: 6\n"
     ]
    }
   ],
   "source": [
    "# 9.Write a program that accepts a string\n",
    "# 1.reverses it.\n",
    "# 2.checks whether it is a palindrome.\n",
    "# 3.checks whether it ends with a specific substring.\n",
    "# 4.capitalize the first letter of each word in a string\n",
    "# 5.check if a string is anagram of another string\n",
    "# 6.remove vowels from string\n",
    "# 7.find length of the longest word in a sentence\n",
    "def reverse_string(s):\n",
    "    return s[::-1]\n",
    "\n",
    "def is_palindrome(s):\n",
    "    return s == s[::-1]\n",
    "\n",
    "def ends_with(s, substring):\n",
    "    return s.endswith(substring)\n",
    "\n",
    "def capitalize_words(s):\n",
    "    return ' '.join(word.capitalize() for word in s.split())\n",
    "\n",
    "def is_anagram(s1, s2):\n",
    "    return sorted(s1) == sorted(s2)\n",
    "\n",
    "def remove_vowels(s):\n",
    "    return ''.join(c for c in s if c.lower() not in 'aeiou')\n",
    "\n",
    "def longest_word_length(s):\n",
    "    return max(len(word) for word in s.split())\n",
    "\n",
    "def main():\n",
    "    input_string = input(\"Enter the string: \")\n",
    "    print(\"Reversed String:\", reverse_string(input_string))\n",
    "    print(\"Palindrome:\", \"Yes\" if is_palindrome(input_string) else \"No\")\n",
    "    substring = input(\"Enter the substring to check: \")\n",
    "    print(\"Ends with substring:\", \"Yes\" if ends_with(input_string, substring) else \"No\")\n",
    "    print(\"Capitalized String:\", capitalize_words(input_string))\n",
    "    another_string = input(\"Enter another string to check anagram: \")\n",
    "    print(\"Anagram:\", \"Yes\" if is_anagram(input_string, another_string) else \"No\")\n",
    "    print(\"String without vowels:\", remove_vowels(input_string))\n",
    "    print(\"Length of the longest word:\", longest_word_length(input_string))\n",
    "\n",
    "main()"
   ]
  },
  {
   "cell_type": "code",
   "execution_count": null,
   "id": "6da96967",
   "metadata": {},
   "outputs": [],
   "source": []
  }
 ],
 "metadata": {
  "kernelspec": {
   "display_name": "Python 3 (ipykernel)",
   "language": "python",
   "name": "python3"
  },
  "language_info": {
   "codemirror_mode": {
    "name": "ipython",
    "version": 3
   },
   "file_extension": ".py",
   "mimetype": "text/x-python",
   "name": "python",
   "nbconvert_exporter": "python",
   "pygments_lexer": "ipython3",
   "version": "3.10.9"
  }
 },
 "nbformat": 4,
 "nbformat_minor": 5
}
