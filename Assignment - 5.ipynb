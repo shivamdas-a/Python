{
 "cells": [
  {
   "cell_type": "code",
   "execution_count": 1,
   "id": "193ac47f",
   "metadata": {},
   "outputs": [],
   "source": [
    "# 1.The following is a list of 10 students ages:\n",
    "# ages = [19, 22, 19, 24, 20, 25, 26, 24, 25, 24]\n",
    "ages = [19, 22, 19, 24, 20, 25, 26, 24, 25, 24]\n"
   ]
  },
  {
   "cell_type": "code",
   "execution_count": 2,
   "id": "08d555a1",
   "metadata": {},
   "outputs": [
    {
     "name": "stdout",
     "output_type": "stream",
     "text": [
      "Sorted ages: [19, 19, 20, 22, 24, 24, 24, 25, 25, 26]\n",
      "Min age: 19, Max age: 26\n"
     ]
    }
   ],
   "source": [
    "# Sort the list and find the min and max age\n",
    "ages.sort()\n",
    "min_age = ages[0]\n",
    "max_age = ages[-1]\n",
    "print(f\"Sorted ages: {ages}\")\n",
    "print(f\"Min age: {min_age}, Max age: {max_age}\")\n"
   ]
  },
  {
   "cell_type": "code",
   "execution_count": 3,
   "id": "c2edb9ba",
   "metadata": {},
   "outputs": [
    {
     "name": "stdout",
     "output_type": "stream",
     "text": [
      "Updated ages list: [19, 19, 20, 22, 24, 24, 24, 25, 25, 26, 19, 26]\n"
     ]
    }
   ],
   "source": [
    "# Add the min age and the max age again to the list\n",
    "ages.append(min_age)\n",
    "ages.append(max_age)\n",
    "print(f\"Updated ages list: {ages}\")\n"
   ]
  },
  {
   "cell_type": "code",
   "execution_count": 4,
   "id": "7c7ad018",
   "metadata": {},
   "outputs": [
    {
     "name": "stdout",
     "output_type": "stream",
     "text": [
      "Median age: 24.0\n"
     ]
    }
   ],
   "source": [
    "# Find the median age (one middle item or two middle items divided by two)\n",
    "n = len(ages)\n",
    "if n % 2 == 1:\n",
    "    median_age = ages[n // 2]\n",
    "else:\n",
    "    median_age = (ages[n // 2 - 1] + ages[n // 2]) / 2\n",
    "print(f\"Median age: {median_age}\")\n"
   ]
  },
  {
   "cell_type": "code",
   "execution_count": 5,
   "id": "603e6b94",
   "metadata": {},
   "outputs": [
    {
     "name": "stdout",
     "output_type": "stream",
     "text": [
      "Average age: 22.75\n"
     ]
    }
   ],
   "source": [
    "# Find the average age (sum of all items divided by their number )\n",
    "average_age = sum(ages) / len(ages)\n",
    "print(f\"Average age: {average_age}\")"
   ]
  },
  {
   "cell_type": "code",
   "execution_count": 6,
   "id": "b66ef048",
   "metadata": {},
   "outputs": [
    {
     "name": "stdout",
     "output_type": "stream",
     "text": [
      "Range of ages: 7\n"
     ]
    }
   ],
   "source": [
    "# Find the range of the ages (max minus min)\n",
    "age_range = max_age - min_age\n",
    "print(f\"Range of ages: {age_range}\")\n"
   ]
  },
  {
   "cell_type": "code",
   "execution_count": 7,
   "id": "cd0b0cd5",
   "metadata": {},
   "outputs": [
    {
     "name": "stdout",
     "output_type": "stream",
     "text": [
      "Difference between min and average: 3.75\n",
      "Difference between max and average: 3.25\n"
     ]
    }
   ],
   "source": [
    "# Compare the value of (min - average) and (max - average), use _abs()_ method\n",
    "diff_min_avg = abs(min_age - average_age)\n",
    "diff_max_avg = abs(max_age - average_age)\n",
    "print(f\"Difference between min and average: {diff_min_avg}\")\n",
    "print(f\"Difference between max and average: {diff_max_avg}\")\n"
   ]
  },
  {
   "cell_type": "code",
   "execution_count": 8,
   "id": "d0e740a1",
   "metadata": {},
   "outputs": [
    {
     "name": "stdout",
     "output_type": "stream",
     "text": [
      "Python\n",
      "Numpy\n",
      "Pandas\n",
      "Django\n",
      "Flask\n"
     ]
    }
   ],
   "source": [
    " # 2.Iterate through the list, ['Python', 'Numpy','Pandas','Django', 'Flask'] using a for loop and print out the items.\n",
    "\n",
    "technologies = ['Python', 'Numpy', 'Pandas', 'Django', 'Flask']\n",
    "for tech in technologies:\n",
    "    print(tech)\n"
   ]
  },
  {
   "cell_type": "code",
   "execution_count": 9,
   "id": "5f3cdac2",
   "metadata": {},
   "outputs": [
    {
     "name": "stdout",
     "output_type": "stream",
     "text": [
      "Food stuff tuple: ('apple', 'banana', 'orange', 'carrot', 'potato', 'broccoli', 'milk', 'cheese', 'yogurt')\n"
     ]
    }
   ],
   "source": [
    "# 3.Create fruits, vegetables and animal products tuples.\n",
    "# Join the three tuples and assign it to a variable called food_stuff_tp.\n",
    "\n",
    "fruits = ('apple', 'banana', 'orange')\n",
    "vegetables = ('carrot', 'potato', 'broccoli')\n",
    "animal_products = ('milk', 'cheese', 'yogurt')\n",
    "food_stuff_tp = fruits + vegetables + animal_products\n",
    "print(f\"Food stuff tuple: {food_stuff_tp}\")\n"
   ]
  },
  {
   "cell_type": "code",
   "execution_count": 10,
   "id": "da266e6b",
   "metadata": {},
   "outputs": [
    {
     "name": "stdout",
     "output_type": "stream",
     "text": [
      "Food stuff list: ['apple', 'banana', 'orange', 'carrot', 'potato', 'broccoli', 'milk', 'cheese', 'yogurt']\n"
     ]
    }
   ],
   "source": [
    "# Change the about food_stuff_tp  tuple to a food_stuff_lt list\n",
    "food_stuff_lt = list(food_stuff_tp)\n",
    "print(f\"Food stuff list: {food_stuff_lt}\")\n"
   ]
  },
  {
   "cell_type": "code",
   "execution_count": 11,
   "id": "981a5ce6",
   "metadata": {},
   "outputs": [
    {
     "name": "stdout",
     "output_type": "stream",
     "text": [
      "Middle item(s) from tuple: ('potato',)\n",
      "Middle item(s) from list: ('potato',)\n"
     ]
    }
   ],
   "source": [
    "# Slice out the middle item or items from the food_stuff_tp tuple or food_stuff_lt list.\n",
    "def get_middle_items(sequence):\n",
    "    n = len(sequence)\n",
    "    if n % 2 == 1:\n",
    "        # Odd length: single middle item\n",
    "        middle_item = sequence[n // 2]\n",
    "        return (middle_item,)\n",
    "    else:\n",
    "        # Even length: two middle items\n",
    "        middle_items = sequence[n // 2 - 1:n // 2 + 1]\n",
    "        return middle_items\n",
    "\n",
    "# Slicing middle items from tuple\n",
    "middle_items_tp = get_middle_items(food_stuff_tp)\n",
    "print(f\"Middle item(s) from tuple: {middle_items_tp}\")\n",
    "\n",
    "# Slicing middle items from list\n",
    "middle_items_lt = get_middle_items(food_stuff_lt)\n",
    "print(f\"Middle item(s) from list: {middle_items_lt}\")\n"
   ]
  },
  {
   "cell_type": "code",
   "execution_count": 12,
   "id": "2b0d9a10",
   "metadata": {},
   "outputs": [
    {
     "name": "stdout",
     "output_type": "stream",
     "text": [
      "First three items: ['apple', 'banana', 'orange']\n",
      "Last three items: ['milk', 'cheese', 'yogurt']\n"
     ]
    }
   ],
   "source": [
    "# Slice out the first three items and the last three items from food_staff_lt list\n",
    "first_three = food_stuff_lt[:3]\n",
    "last_three = food_stuff_lt[-3:]\n",
    "print(f\"First three items: {first_three}\")\n",
    "print(f\"Last three items: {last_three}\")\n"
   ]
  },
  {
   "cell_type": "code",
   "execution_count": 13,
   "id": "3c1f3b5e",
   "metadata": {},
   "outputs": [],
   "source": [
    "# Delete the food_staff_tp tuple completely\n",
    "del food_stuff_tp\n"
   ]
  },
  {
   "cell_type": "code",
   "execution_count": 14,
   "id": "2833fd29",
   "metadata": {},
   "outputs": [
    {
     "name": "stdout",
     "output_type": "stream",
     "text": [
      "Union of A and B: {19, 20, 22, 24, 25, 26, 27, 28}\n"
     ]
    }
   ],
   "source": [
    "# 4. From the above sets A and B\n",
    "# Join A and B\n",
    "A = {19, 22, 24, 20, 25, 26}\n",
    "B = {19, 22, 20, 25, 26, 24, 28, 27}\n",
    "\n",
    "union_AB = A | B\n",
    "print(f\"Union of A and B: {union_AB}\")\n"
   ]
  },
  {
   "cell_type": "code",
   "execution_count": 15,
   "id": "c04a0263",
   "metadata": {},
   "outputs": [
    {
     "name": "stdout",
     "output_type": "stream",
     "text": [
      "Intersection of A and B: {19, 20, 22, 24, 25, 26}\n"
     ]
    }
   ],
   "source": [
    "# Find A intersection B\n",
    "\n",
    "intersection_AB = A & B\n",
    "print(f\"Intersection of A and B: {intersection_AB}\")\n",
    "\n"
   ]
  },
  {
   "cell_type": "code",
   "execution_count": 16,
   "id": "f2c350be",
   "metadata": {},
   "outputs": [
    {
     "name": "stdout",
     "output_type": "stream",
     "text": [
      "Is A a subset of B: True\n"
     ]
    }
   ],
   "source": [
    "# Is A subset of B\n",
    "is_subset = A.issubset(B)\n",
    "print(f\"Is A a subset of B: {is_subset}\")\n"
   ]
  },
  {
   "cell_type": "code",
   "execution_count": 17,
   "id": "1e197b90",
   "metadata": {},
   "outputs": [
    {
     "name": "stdout",
     "output_type": "stream",
     "text": [
      "Are A and B disjoint sets: False\n"
     ]
    }
   ],
   "source": [
    "# Are A and B disjoint sets\n",
    "are_disjoint = A.isdisjoint(B)\n",
    "print(f\"Are A and B disjoint sets: {are_disjoint}\")\n"
   ]
  },
  {
   "cell_type": "code",
   "execution_count": 18,
   "id": "a402df32",
   "metadata": {},
   "outputs": [
    {
     "name": "stdout",
     "output_type": "stream",
     "text": [
      "Union of A with B: {19, 20, 22, 24, 25, 26, 27, 28}\n",
      "Union of B with A: {19, 20, 22, 24, 25, 26, 27, 28}\n"
     ]
    }
   ],
   "source": [
    "# Join A with B and B with A\n",
    "union_A_with_B = A | B\n",
    "union_B_with_A = B | A\n",
    "print(f\"Union of A with B: {union_A_with_B}\")\n",
    "print(f\"Union of B with A: {union_B_with_A}\")\n"
   ]
  },
  {
   "cell_type": "code",
   "execution_count": 19,
   "id": "d47bb1e6",
   "metadata": {},
   "outputs": [
    {
     "name": "stdout",
     "output_type": "stream",
     "text": [
      "Symmetric difference between A and B: {27, 28}\n"
     ]
    }
   ],
   "source": [
    "# What is the symmetric difference between A and B\n",
    "symmetric_diff = A ^ B\n",
    "print(f\"Symmetric difference between A and B: {symmetric_diff}\")\n"
   ]
  },
  {
   "cell_type": "code",
   "execution_count": 20,
   "id": "33c17f2d",
   "metadata": {},
   "outputs": [],
   "source": [
    "# Delete the sets completely\n",
    "del A\n",
    "del B\n"
   ]
  },
  {
   "cell_type": "code",
   "execution_count": 21,
   "id": "cf795015",
   "metadata": {},
   "outputs": [
    {
     "name": "stdout",
     "output_type": "stream",
     "text": [
      "{'name': 'Rex', 'color': 'Brown', 'breed': 'Labrador', 'legs': 4, 'age': 5}\n"
     ]
    }
   ],
   "source": [
    "# 5. Create an empty dictionary called dog.Add name, color, breed, legs, age to the dog dictionary\n",
    "# Create an empty dictionary\n",
    "dog = {}\n",
    "\n",
    "# Add attributes to the dictionary\n",
    "dog['name'] = 'Rex'\n",
    "dog['color'] = 'Brown'\n",
    "dog['breed'] = 'Labrador'\n",
    "dog['legs'] = 4\n",
    "dog['age'] = 5\n",
    "\n",
    "# Print the dictionary to verify\n",
    "print(dog)\n"
   ]
  },
  {
   "cell_type": "code",
   "execution_count": 22,
   "id": "01298c8a",
   "metadata": {},
   "outputs": [
    {
     "name": "stdout",
     "output_type": "stream",
     "text": [
      "Length of the student dictionary: 9\n"
     ]
    }
   ],
   "source": [
    "# 6. Create a student dictionary and add first_name, last_name, gender, age, marital status, skills, country, city and address as keys for the dictionary\n",
    "# Get the length of the student dictionary\n",
    "# Create the student dictionary with initial values\n",
    "student = {\n",
    "    'first_name': 'John',\n",
    "    'last_name': 'Doe',\n",
    "    'gender': 'Male',\n",
    "    'age': 20,\n",
    "    'marital_status': 'Single',\n",
    "    'skills': ['Python', 'JavaScript'],\n",
    "    'country': 'USA',\n",
    "    'city': 'New York',\n",
    "    'address': '123 Main St'\n",
    "}\n",
    "length = len(student)\n",
    "print(f\"Length of the student dictionary: {length}\")\n",
    "\n"
   ]
  },
  {
   "cell_type": "code",
   "execution_count": 23,
   "id": "54363394",
   "metadata": {},
   "outputs": [
    {
     "name": "stdout",
     "output_type": "stream",
     "text": [
      "Skills: ['Python', 'JavaScript']\n",
      "Data type of skills: <class 'list'>\n"
     ]
    }
   ],
   "source": [
    "# Get the value of skills and check the data type, it should be a list\n",
    "skills = student['skills']\n",
    "print(f\"Skills: {skills}\")\n",
    "print(f\"Data type of skills: {type(skills)}\")\n"
   ]
  },
  {
   "cell_type": "code",
   "execution_count": 24,
   "id": "c7d37de8",
   "metadata": {},
   "outputs": [
    {
     "name": "stdout",
     "output_type": "stream",
     "text": [
      "Updated skills: ['Python', 'JavaScript', 'Django', 'Flask']\n"
     ]
    }
   ],
   "source": [
    "# Modify the skills values by adding one or two skills\n",
    "student['skills'].extend(['Django', 'Flask'])\n",
    "print(f\"Updated skills: {student['skills']}\")\n"
   ]
  },
  {
   "cell_type": "code",
   "execution_count": 25,
   "id": "7bf8b944",
   "metadata": {},
   "outputs": [
    {
     "name": "stdout",
     "output_type": "stream",
     "text": [
      "Dictionary keys: ['first_name', 'last_name', 'gender', 'age', 'marital_status', 'skills', 'country', 'city', 'address']\n"
     ]
    }
   ],
   "source": [
    "# Get the dictionary keys as a list\n",
    "keys_list = list(student.keys())\n",
    "print(f\"Dictionary keys: {keys_list}\")\n"
   ]
  },
  {
   "cell_type": "code",
   "execution_count": 26,
   "id": "0c430ffb",
   "metadata": {},
   "outputs": [
    {
     "name": "stdout",
     "output_type": "stream",
     "text": [
      "Dictionary values: ['John', 'Doe', 'Male', 20, 'Single', ['Python', 'JavaScript', 'Django', 'Flask'], 'USA', 'New York', '123 Main St']\n"
     ]
    }
   ],
   "source": [
    "# Get the dictionary values as a list\n",
    "values_list = list(student.values())\n",
    "print(f\"Dictionary values: {values_list}\")\n"
   ]
  },
  {
   "cell_type": "code",
   "execution_count": 27,
   "id": "f8d226b4",
   "metadata": {},
   "outputs": [
    {
     "name": "stdout",
     "output_type": "stream",
     "text": [
      "Dictionary items as a list of tuples: [('first_name', 'John'), ('last_name', 'Doe'), ('gender', 'Male'), ('age', 20), ('marital_status', 'Single'), ('skills', ['Python', 'JavaScript', 'Django', 'Flask']), ('country', 'USA'), ('city', 'New York'), ('address', '123 Main St')]\n"
     ]
    }
   ],
   "source": [
    "# Change the dictionary to a list of tuples using _items()_ method\n",
    "items_list = list(student.items())\n",
    "print(f\"Dictionary items as a list of tuples: {items_list}\")\n"
   ]
  },
  {
   "cell_type": "code",
   "execution_count": 28,
   "id": "bfa23916",
   "metadata": {},
   "outputs": [
    {
     "name": "stdout",
     "output_type": "stream",
     "text": [
      "Student dictionary after deleting address: {'first_name': 'John', 'last_name': 'Doe', 'gender': 'Male', 'age': 20, 'marital_status': 'Single', 'skills': ['Python', 'JavaScript', 'Django', 'Flask'], 'country': 'USA', 'city': 'New York'}\n"
     ]
    }
   ],
   "source": [
    "# Delete one of the items in the dictionary\n",
    "del student['address']\n",
    "print(f\"Student dictionary after deleting address: {student}\")\n"
   ]
  },
  {
   "cell_type": "code",
   "execution_count": 29,
   "id": "020d93f7",
   "metadata": {},
   "outputs": [],
   "source": [
    "# Delete one of the dictionaries\n",
    "del student\n"
   ]
  },
  {
   "cell_type": "code",
   "execution_count": 30,
   "id": "130918f2",
   "metadata": {},
   "outputs": [
    {
     "name": "stdout",
     "output_type": "stream",
     "text": [
      "Middle skill: Node\n"
     ]
    }
   ],
   "source": [
    "# 7.Create a person dictionary.\n",
    "#   person={\n",
    "#     'first_name': 'Asabeneh',\n",
    "#     'last_name': 'Yetayeh',\n",
    "#     'age': 250,\n",
    "#     'country': 'Finland',\n",
    "#     'is_marred': True,\n",
    "#     'skills': ['JavaScript', 'React', 'Node', 'MongoDB', 'Python'],\n",
    "#     'address': {\n",
    "#         'street': 'Space street',\n",
    "#         'zipcode': '02210'\n",
    "#     }\n",
    "#     }\n",
    "# Check if the person dictionary has skills key, if so print out the middle skill in the skills list.\n",
    "# Check if the person dictionary has skills key, if so check if the person has 'Python' skill and print out the result.\n",
    "# If a person skills has only JavaScript and React, print('He is a front end developer'), if the person skills has Node, Python, MongoDB, print('He is a backend developer'), if the person skills has React, Node and MongoDB, Print('He is a fullstack developer'), else print('unknown title') - for more accurate results more conditions can be nested!\n",
    "# If the person is married and if he lives in Finland, print the information in the following format:\n",
    "\n",
    "# ```py\n",
    "#     Asabeneh Yetayeh lives in Finland. He is married.\n",
    "# ``\n",
    "# Create the person dictionary\n",
    "person = {\n",
    "    'first_name': 'Asabeneh',\n",
    "    'last_name': 'Yetayeh',\n",
    "    'age': 250,\n",
    "    'country': 'Finland',\n",
    "    'is_married': True,\n",
    "    'skills': ['JavaScript', 'React', 'Node', 'MongoDB', 'Python'],\n",
    "    'address': {\n",
    "        'street': 'Space street',\n",
    "        'zipcode': '02210'\n",
    "    }\n",
    "}\n",
    "\n",
    "# Check if 'skills' key exists\n",
    "if 'skills' in person:\n",
    "    skills = person['skills']\n",
    "    # Find and print the middle skill\n",
    "    n = len(skills)\n",
    "    if n % 2 == 1:\n",
    "        middle_skill = skills[n // 2]\n",
    "        print(f\"Middle skill: {middle_skill}\")\n",
    "    else:\n",
    "        middle_skills = skills[n // 2 - 1:n // 2 + 1]\n",
    "        print(f\"Middle skills: {middle_skills}\")\n"
   ]
  },
  {
   "cell_type": "code",
   "execution_count": 31,
   "id": "3c741ac9",
   "metadata": {},
   "outputs": [
    {
     "name": "stdout",
     "output_type": "stream",
     "text": [
      "Has Python skill: True\n"
     ]
    }
   ],
   "source": [
    "# Check if 'skills' key exists and if 'Python' is in the list\n",
    "if 'skills' in person:\n",
    "    has_python = 'Python' in person['skills']\n",
    "    print(f\"Has Python skill: {has_python}\")\n"
   ]
  },
  {
   "cell_type": "code",
   "execution_count": 32,
   "id": "867b6ae2",
   "metadata": {},
   "outputs": [
    {
     "name": "stdout",
     "output_type": "stream",
     "text": [
      "He is a backend developer\n"
     ]
    }
   ],
   "source": [
    "# Determine the title based on skills\n",
    "if 'skills' in person:\n",
    "    skills = person['skills']\n",
    "\n",
    "    if 'JavaScript' in skills and 'React' in skills and len(skills) == 2:\n",
    "        print('He is a front end developer')\n",
    "    elif 'Node' in skills and 'Python' in skills and 'MongoDB' in skills:\n",
    "        print('He is a backend developer')\n",
    "    elif 'React' in skills and 'Node' in skills and 'MongoDB' in skills:\n",
    "        print('He is a fullstack developer')\n",
    "    else:\n",
    "        print('unknown title')\n"
   ]
  },
  {
   "cell_type": "code",
   "execution_count": 33,
   "id": "3fd7dfa2",
   "metadata": {},
   "outputs": [
    {
     "name": "stdout",
     "output_type": "stream",
     "text": [
      "Asabeneh Yetayeh lives in Finland. He is married.\n"
     ]
    }
   ],
   "source": [
    "# Print information if married and lives in Finland\n",
    "if person.get('is_married') and person.get('country') == 'Finland':\n",
    "    print(f\"{person['first_name']} {person['last_name']} lives in {person['country']}. He is married.\")\n"
   ]
  },
  {
   "cell_type": "code",
   "execution_count": 34,
   "id": "388a6ee3",
   "metadata": {},
   "outputs": [
    {
     "name": "stdout",
     "output_type": "stream",
     "text": [
      "Month 1 corresponds to Winter.\n",
      "Month 4 corresponds to Spring.\n",
      "Month 8 corresponds to Summer.\n",
      "Month 12 corresponds to Winter.\n",
      "Invalid month number. Please enter a number between 1 and 12.\n"
     ]
    }
   ],
   "source": [
    "# 8. Print the season name of the year based on the month number using a dictionary.\n",
    "# Create a dictionary mapping month numbers to seasons\n",
    "seasons = {\n",
    "    1: 'Winter',   # January\n",
    "    2: 'Winter',   # February\n",
    "    3: 'Spring',   # March\n",
    "    4: 'Spring',   # April\n",
    "    5: 'Spring',   # May\n",
    "    6: 'Summer',   # June\n",
    "    7: 'Summer',   # July\n",
    "    8: 'Summer',   # August\n",
    "    9: 'Autumn',   # September\n",
    "    10: 'Autumn',  # October\n",
    "    11: 'Autumn',  # November\n",
    "    12: 'Winter'   # December\n",
    "}\n",
    "\n",
    "# Function to print the season based on month number\n",
    "def print_season(month_number):\n",
    "    # Check if month_number is valid\n",
    "    if 1 <= month_number <= 12:\n",
    "        season = seasons[month_number]\n",
    "        print(f\"Month {month_number} corresponds to {season}.\")\n",
    "    else:\n",
    "        print(\"Invalid month number. Please enter a number between 1 and 12.\")\n",
    "\n",
    "# Example usage\n",
    "print_season(1)\n",
    "print_season(4)\n",
    "print_season(8)\n",
    "print_season(12)\n",
    "print_season(15)\n"
   ]
  },
  {
   "cell_type": "code",
   "execution_count": null,
   "id": "732ff256",
   "metadata": {},
   "outputs": [],
   "source": []
  }
 ],
 "metadata": {
  "kernelspec": {
   "display_name": "Python 3 (ipykernel)",
   "language": "python",
   "name": "python3"
  },
  "language_info": {
   "codemirror_mode": {
    "name": "ipython",
    "version": 3
   },
   "file_extension": ".py",
   "mimetype": "text/x-python",
   "name": "python",
   "nbconvert_exporter": "python",
   "pygments_lexer": "ipython3",
   "version": "3.10.9"
  }
 },
 "nbformat": 4,
 "nbformat_minor": 5
}
