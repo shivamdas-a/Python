{
 "cells": [
  {
   "cell_type": "code",
   "execution_count": 1,
   "id": "406a2a7f",
   "metadata": {},
   "outputs": [
    {
     "name": "stdout",
     "output_type": "stream",
     "text": [
      "Celsius: 10\n",
      "Fahrenheit: 50.0\n"
     ]
    }
   ],
   "source": [
    "#1no.\n",
    "cel = float (input(\"Celsius: \"))\n",
    "fah = (cel * 1.8) + 32\n",
    "print(\"Fahrenheit:\",fah)\n"
   ]
  },
  {
   "cell_type": "code",
   "execution_count": 2,
   "id": "c7055644",
   "metadata": {},
   "outputs": [
    {
     "name": "stdout",
     "output_type": "stream",
     "text": [
      "Enter first number: 10\n",
      "Enter second number: 20\n",
      "Before swapping: 10 20\n",
      "After swapping: 20 10\n"
     ]
    }
   ],
   "source": [
    "#2no.\n",
    "num1 = int(input(\"Enter first number: \"))\n",
    "num2 = int(input(\"Enter second number: \"))\n",
    "print(\"Before swapping:\",num1,num2)\n",
    "temp = num1\n",
    "num1 = num2\n",
    "num2 = temp\n",
    "print(\"After swapping:\",num1,num2)"
   ]
  },
  {
   "cell_type": "code",
   "execution_count": 3,
   "id": "4159ce5c",
   "metadata": {},
   "outputs": [
    {
     "name": "stdout",
     "output_type": "stream",
     "text": [
      "Enter a year: 2023\n",
      "Not a leap year!\n"
     ]
    }
   ],
   "source": [
    "#3no.\n",
    "year = int(input(\"Enter a year: \"))\n",
    "if (year % 4 == 0 and year % 100 != 0) or year % 400 == 0:\n",
    "    print(\"Leap year!\")\n",
    "else:\n",
    "    print(\"Not a leap year!\")"
   ]
  },
  {
   "cell_type": "code",
   "execution_count": 4,
   "id": "8c8d6083",
   "metadata": {},
   "outputs": [
    {
     "name": "stdout",
     "output_type": "stream",
     "text": [
      "Enter a year: 2023\n",
      "Reversed year: 3202\n"
     ]
    }
   ],
   "source": [
    "#4no.\n",
    "year = int(input(\"Enter a year: \"))\n",
    "rev = 0\n",
    "while year > 0:\n",
    "    digit = year % 10\n",
    "    rev = rev * 10 + digit\n",
    "    year = year // 10\n",
    "print(\"Reversed year:\",rev)"
   ]
  },
  {
   "cell_type": "code",
   "execution_count": 5,
   "id": "eccc28dc",
   "metadata": {},
   "outputs": [
    {
     "name": "stdout",
     "output_type": "stream",
     "text": [
      "Enter a number:6\n",
      "1\n",
      "2\n",
      "3\n",
      "6\n"
     ]
    }
   ],
   "source": [
    "#5no.\n",
    "num = int(input(\"Enter a number:\"))\n",
    "for i in range(1,num+1):\n",
    "    if num % i == 0:\n",
    "        print(i)"
   ]
  },
  {
   "cell_type": "code",
   "execution_count": 6,
   "id": "83dc3fa2",
   "metadata": {},
   "outputs": [
    {
     "name": "stdout",
     "output_type": "stream",
     "text": [
      "Enter starting number: 10\n",
      "Enter ending number:20\n",
      "11\n",
      "13\n",
      "17\n",
      "19\n"
     ]
    }
   ],
   "source": [
    "#6no.\n",
    "start = int(input(\"Enter starting number: \"))\n",
    "end = int(input(\"Enter ending number:\"))\n",
    "for number in range(start,end+1):\n",
    "    if number > 1:\n",
    "        for j in range(2,number):\n",
    "            if (number % j) == 0:\n",
    "                break\n",
    "        else:\n",
    "            print(number)"
   ]
  },
  {
   "cell_type": "code",
   "execution_count": 7,
   "id": "a3a23d9e",
   "metadata": {},
   "outputs": [
    {
     "name": "stdout",
     "output_type": "stream",
     "text": [
      "1001\n",
      "1008\n",
      "1022\n",
      "1029\n",
      "1036\n",
      "1043\n",
      "1057\n",
      "1064\n",
      "1071\n",
      "1078\n",
      "1092\n",
      "1099\n",
      "1106\n",
      "1113\n",
      "1127\n",
      "1134\n",
      "1141\n",
      "1148\n",
      "1162\n",
      "1169\n",
      "1176\n",
      "1183\n",
      "1197\n",
      "1204\n",
      "1211\n",
      "1218\n",
      "1232\n",
      "1239\n",
      "1246\n",
      "1253\n",
      "1267\n",
      "1274\n",
      "1281\n",
      "1288\n",
      "1302\n",
      "1309\n",
      "1316\n",
      "1323\n",
      "1337\n",
      "1344\n",
      "1351\n",
      "1358\n",
      "1372\n",
      "1379\n",
      "1386\n",
      "1393\n",
      "1407\n",
      "1414\n",
      "1421\n",
      "1428\n",
      "1442\n",
      "1449\n",
      "1456\n",
      "1463\n",
      "1477\n",
      "1484\n",
      "1491\n",
      "1498\n",
      "1512\n",
      "1519\n",
      "1526\n",
      "1533\n",
      "1547\n",
      "1554\n",
      "1561\n",
      "1568\n",
      "1582\n",
      "1589\n",
      "1596\n",
      "1603\n",
      "1617\n",
      "1624\n",
      "1631\n",
      "1638\n",
      "1652\n",
      "1659\n",
      "1666\n",
      "1673\n",
      "1687\n",
      "1694\n",
      "1701\n",
      "1708\n",
      "1722\n",
      "1729\n",
      "1736\n",
      "1743\n",
      "1757\n",
      "1764\n",
      "1771\n",
      "1778\n",
      "1792\n",
      "1799\n",
      "1806\n",
      "1813\n",
      "1827\n",
      "1834\n",
      "1841\n",
      "1848\n",
      "1862\n",
      "1869\n",
      "1876\n",
      "1883\n",
      "1897\n",
      "1904\n",
      "1911\n",
      "1918\n",
      "1932\n",
      "1939\n",
      "1946\n",
      "1953\n",
      "1967\n",
      "1974\n",
      "1981\n",
      "1988\n"
     ]
    }
   ],
   "source": [
    "#7no.\n",
    "\n",
    "for number in range(1000, 2001):\n",
    "    if number % 7 == 0 and number % 5 != 0:\n",
    "        print(number)\n"
   ]
  },
  {
   "cell_type": "code",
   "execution_count": 8,
   "id": "5db6df2f",
   "metadata": {},
   "outputs": [
    {
     "name": "stdout",
     "output_type": "stream",
     "text": [
      "Enter a number: 232\n",
      "Palindrome\n"
     ]
    }
   ],
   "source": [
    "#8no.\n",
    "num = int(input(\"Enter a number: \"))\n",
    "rev = 0\n",
    "temp = num\n",
    "\n",
    "while temp > 0:\n",
    "    digit = temp % 10\n",
    "    rev = (rev * 10) + digit\n",
    "    temp = temp // 10\n",
    "\n",
    "if num == rev:\n",
    "    print(\"Palindrome\")\n",
    "else:\n",
    "    print(\"Not a palindrome\")\n"
   ]
  },
  {
   "cell_type": "code",
   "execution_count": 9,
   "id": "ec460256",
   "metadata": {},
   "outputs": [
    {
     "name": "stdout",
     "output_type": "stream",
     "text": [
      "Enter a number: 6\n",
      "6 is a perfect number\n",
      "6 is an Armstrong number\n"
     ]
    }
   ],
   "source": [
    "#9no.\n",
    "\n",
    "number = int(input(\"Enter a number: \"))\n",
    "\n",
    "sum_of_divisors = 0\n",
    "for i in range(1, number):\n",
    "    if number % i == 0:\n",
    "        sum_of_divisors += i\n",
    "\n",
    "if sum_of_divisors == number:\n",
    "    print(f\"{number} is a perfect number\")\n",
    "else:\n",
    "    print(f\"{number} is not a perfect number\")\n",
    "\n",
    "# Check for Armstrong Number\n",
    "num_str = str(number)\n",
    "num_digits = len(num_str)\n",
    "sum_of_powers = 0\n",
    "\n",
    "for digit in num_str:\n",
    "    sum_of_powers += int(digit) ** num_digits\n",
    "\n",
    "if sum_of_powers == number:\n",
    "    print(f\"{number} is an Armstrong number\")\n",
    "else:\n",
    "    print(f\"{number} is not an Armstrong number\")\n"
   ]
  },
  {
   "cell_type": "code",
   "execution_count": 10,
   "id": "d0fb9b55",
   "metadata": {},
   "outputs": [
    {
     "name": "stdout",
     "output_type": "stream",
     "text": [
      "Enter the max value for Fibonacci series: 5\n",
      "Fibonacci series up to 5 :\n",
      "0 1 1 2 3 5 "
     ]
    }
   ],
   "source": [
    "#10no.\n",
    "\n",
    "n = int(input(\"Enter the max value for Fibonacci series: \"))\n",
    "\n",
    "a, b = 0, 1\n",
    "\n",
    "print(\"Fibonacci series up to\", n, \":\")\n",
    "while a <= n:\n",
    "    print(a, end=\" \")\n",
    "    a, b = b, a + b\n"
   ]
  },
  {
   "cell_type": "code",
   "execution_count": 11,
   "id": "0550f5f8",
   "metadata": {},
   "outputs": [
    {
     "name": "stdout",
     "output_type": "stream",
     "text": [
      "Shivam Das\n"
     ]
    }
   ],
   "source": [
    "# 1. Write a  program to print your name.\n",
    "print('Shivam Das')"
   ]
  },
  {
   "cell_type": "code",
   "execution_count": 12,
   "id": "f8881589",
   "metadata": {},
   "outputs": [
    {
     "name": "stdout",
     "output_type": "stream",
     "text": [
      "Enter first number:5\n",
      "Enter second number:10\n",
      "5+10= 15\n"
     ]
    }
   ],
   "source": [
    "#2. Write a  program to add two numbers.\n",
    "num1 = int(input(\"Enter first number:\"))\n",
    "num2 = int(input(\"Enter second number:\"))\n",
    "sum = num1+num2\n",
    "print (f\"{num1}+{num2}=\",sum)"
   ]
  },
  {
   "cell_type": "code",
   "execution_count": 13,
   "id": "4b567184",
   "metadata": {},
   "outputs": [
    {
     "name": "stdout",
     "output_type": "stream",
     "text": [
      "Enter temperature in Fahrenheit: 87\n",
      "87.0 degrees F is equal to 30.56 degrees C.\n"
     ]
    }
   ],
   "source": [
    "#3. Write a  program to change temperature from Fahrenheit to Celsius.\n",
    "\n",
    "fah = float(input(\"Enter temperature in Fahrenheit: \"))\n",
    "\n",
    "cel = (fah - 32) * 5/9\n",
    "\n",
    "# Print the result\n",
    "print(f\"{fah} degrees F is equal to {cel:.2f} degrees C.\")\n"
   ]
  },
  {
   "cell_type": "code",
   "execution_count": 14,
   "id": "847807b7",
   "metadata": {},
   "outputs": [
    {
     "name": "stdout",
     "output_type": "stream",
     "text": [
      "Enter length : 5\n",
      "Enter width : 5\n",
      "  Rectangle:\n",
      " Area : 25.00\n",
      "Perimeter: 20.00\n"
     ]
    }
   ],
   "source": [
    "#4.Write a  program to find area and perimeter of a rectangle.\n",
    "\n",
    "l = float(input(\"Enter length : \"))\n",
    "w = float(input(\"Enter width : \"))\n",
    "\n",
    "\n",
    "area = l * w\n",
    "peri = 2 * (l + w)\n",
    "\n",
    "\n",
    "print(f\"  Rectangle:\\n Area : {area:.2f}\\nPerimeter: {peri:.2f}\")"
   ]
  },
  {
   "cell_type": "code",
   "execution_count": 15,
   "id": "d1701939",
   "metadata": {},
   "outputs": [
    {
     "name": "stdout",
     "output_type": "stream",
     "text": [
      "Enter radius : 5\n",
      "  Circle:\n",
      " Area : 78.50\n",
      "Perimeter: 31.40\n"
     ]
    }
   ],
   "source": [
    "#5.Write a  program to find area and perimeter of a circle.\n",
    "r = float(input(\"Enter radius : \"))\n",
    "\n",
    "area = 3.14 * r**2\n",
    "peri = 2 * 3.14 * r\n",
    "\n",
    "print(f\"  Circle:\\n Area : {area:.2f}\\nPerimeter: {peri:.2f}\")"
   ]
  },
  {
   "cell_type": "code",
   "execution_count": 16,
   "id": "279a767d",
   "metadata": {},
   "outputs": [
    {
     "name": "stdout",
     "output_type": "stream",
     "text": [
      "Enter number:11\n",
      "11 is Odd!\n"
     ]
    }
   ],
   "source": [
    "#6.Write a Program to display whether a number is odd or even.\n",
    "num =  int(input(\"Enter number:\"))\n",
    "if num%2 == 0:\n",
    "    print (f\"{num} is Even!\")\n",
    "else :\n",
    "    print (f\"{num} is Odd!\")\n"
   ]
  },
  {
   "cell_type": "code",
   "execution_count": 17,
   "id": "1b000ec2",
   "metadata": {},
   "outputs": [
    {
     "name": "stdout",
     "output_type": "stream",
     "text": [
      "Enter number:5\n",
      "5 is Positive!\n"
     ]
    }
   ],
   "source": [
    "#7. Write a Program to check if a number is Positive or Negative.\n",
    "num =  int(input(\"Enter number:\"))\n",
    "if num == 0:\n",
    "    print (f\"{num} is Zero!\")\n",
    "elif num < 0 :\n",
    "    print (f\"{num} is Negative!\")\n",
    "else :\n",
    "    print (f\"{num} is Positive!\")"
   ]
  },
  {
   "cell_type": "code",
   "execution_count": 18,
   "id": "d71ab249",
   "metadata": {},
   "outputs": [
    {
     "name": "stdout",
     "output_type": "stream",
     "text": [
      "Enter first number: 5\n",
      "Enter second number: 8\n",
      "Enter third number: 42\n",
      "42 is greater than 5 and 8!\n"
     ]
    }
   ],
   "source": [
    "#8.Write a  program to find maximum of three numbers.\n",
    "num1 = int(input(\"Enter first number: \"))\n",
    "num2 = int(input(\"Enter second number: \"))\n",
    "num3 = int(input(\"Enter third number: \"))\n",
    "\n",
    "if num1 > num2 and num1 > num3:\n",
    "    print(f'{num1} is greater than {num2} and {num3}!')\n",
    "elif num2 > num1 and num2 > num3:\n",
    "    print(f'{num2} is greater than {num1} and {num3}!')\n",
    "else:\n",
    "    print(f'{num3} is greater than {num1} and {num2}!')"
   ]
  },
  {
   "cell_type": "code",
   "execution_count": 19,
   "id": "daeaf39d",
   "metadata": {},
   "outputs": [
    {
     "name": "stdout",
     "output_type": "stream",
     "text": [
      "Enter Mile:25\n",
      "kilometer:40.23\n"
     ]
    }
   ],
   "source": [
    "#9.Write a program to convert miles to kilometers.\n",
    "mil = float (input(\"Enter Mile:\"))\n",
    "kilo = mil*1.60934\n",
    "\n",
    "print(f\"kilometer:{kilo:.2f}\")"
   ]
  },
  {
   "cell_type": "code",
   "execution_count": 20,
   "id": "90d6b009",
   "metadata": {},
   "outputs": [
    {
     "name": "stdout",
     "output_type": "stream",
     "text": [
      "Enter Percentage: 81\n",
      "Grade B\n"
     ]
    }
   ],
   "source": [
    "#10.  Write a program for following grading system.\n",
    "# Note:   Percentage>=90%  :  Grade A\n",
    "# Percentage>=80%   :  Grade B\n",
    "# Percentage>=70%   :  Grade C\n",
    "# Percentage>=60%   :  Grade D\n",
    "# Percentage>=40%   :  Grade E\n",
    "# Percentage<40%     :  Grade F\n",
    "\n",
    "per = float(input(\"Enter Percentage: \"))\n",
    "\n",
    "if per >= 90:\n",
    "    print(\"Grade A\")\n",
    "elif per >= 80:\n",
    "    print(\"Grade B\")\n",
    "elif per >= 70:\n",
    "    print(\"Grade C\")\n",
    "elif per >= 60:\n",
    "    print(\"Grade D\")\n",
    "elif per >= 40:\n",
    "    print(\"Grade E\")\n",
    "else:\n",
    "    print(\"Grade F\")"
   ]
  },
  {
   "cell_type": "code",
   "execution_count": null,
   "id": "ae4814f5",
   "metadata": {},
   "outputs": [],
   "source": []
  }
 ],
 "metadata": {
  "kernelspec": {
   "display_name": "Python 3 (ipykernel)",
   "language": "python",
   "name": "python3"
  },
  "language_info": {
   "codemirror_mode": {
    "name": "ipython",
    "version": 3
   },
   "file_extension": ".py",
   "mimetype": "text/x-python",
   "name": "python",
   "nbconvert_exporter": "python",
   "pygments_lexer": "ipython3",
   "version": "3.10.9"
  }
 },
 "nbformat": 4,
 "nbformat_minor": 5
}
